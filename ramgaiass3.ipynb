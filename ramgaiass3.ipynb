{
 "cells": [
  {
   "cell_type": "code",
   "execution_count": null,
   "id": "51d81739-fdb0-4c7c-b71e-77c4f3dea313",
   "metadata": {},
   "outputs": [],
   "source": [
    "### Rachana Amgai\n",
    "### Assignment 3\n",
    "### 9/11/2024"
   ]
  },
  {
   "cell_type": "code",
   "execution_count": null,
   "id": "e7597107-f253-4253-a058-6786f592f4d9",
   "metadata": {},
   "outputs": [],
   "source": [
    "Importing all necessary packages"
   ]
  },
  {
   "cell_type": "code",
   "execution_count": null,
   "id": "df575e5f-d2e6-4276-8b54-e4d1b9e98a6e",
   "metadata": {},
   "outputs": [],
   "source": [
    "import pandas as pd\n",
    "import numpy as np\n",
    "import math\n",
    "from sklearn.model_selection import train_test_split\n",
    "from sklearn.linear_model import LinearRegression\n",
    "from sklearn.metrics import mean_squared_error, r2_score\n",
    "import matplotlib.pyplot as plt"
   ]
  },
  {
   "cell_type": "code",
   "execution_count": 8,
   "id": "39a0ee76-ef2f-4abb-b451-8297b4e0636c",
   "metadata": {},
   "outputs": [
    {
     "data": {
      "text/html": [
       "<div>\n",
       "<style scoped>\n",
       "    .dataframe tbody tr th:only-of-type {\n",
       "        vertical-align: middle;\n",
       "    }\n",
       "\n",
       "    .dataframe tbody tr th {\n",
       "        vertical-align: top;\n",
       "    }\n",
       "\n",
       "    .dataframe thead th {\n",
       "        text-align: right;\n",
       "    }\n",
       "</style>\n",
       "<table border=\"1\" class=\"dataframe\">\n",
       "  <thead>\n",
       "    <tr style=\"text-align: right;\">\n",
       "      <th></th>\n",
       "      <th>year</th>\n",
       "      <th>us_pop</th>\n",
       "    </tr>\n",
       "  </thead>\n",
       "  <tbody>\n",
       "    <tr>\n",
       "      <th>0</th>\n",
       "      <td>1790</td>\n",
       "      <td>3929326</td>\n",
       "    </tr>\n",
       "    <tr>\n",
       "      <th>1</th>\n",
       "      <td>1800</td>\n",
       "      <td>5308483</td>\n",
       "    </tr>\n",
       "    <tr>\n",
       "      <th>2</th>\n",
       "      <td>1810</td>\n",
       "      <td>7239881</td>\n",
       "    </tr>\n",
       "    <tr>\n",
       "      <th>3</th>\n",
       "      <td>1820</td>\n",
       "      <td>9638453</td>\n",
       "    </tr>\n",
       "    <tr>\n",
       "      <th>4</th>\n",
       "      <td>1830</td>\n",
       "      <td>12866020</td>\n",
       "    </tr>\n",
       "  </tbody>\n",
       "</table>\n",
       "</div>"
      ],
      "text/plain": [
       "   year    us_pop\n",
       "0  1790   3929326\n",
       "1  1800   5308483\n",
       "2  1810   7239881\n",
       "3  1820   9638453\n",
       "4  1830  12866020"
      ]
     },
     "execution_count": 8,
     "metadata": {},
     "output_type": "execute_result"
    }
   ],
   "source": [
    "ds =pd.read_csv(r\"E:\\Rachana Bellevue\\us_pop_data.csv\")\n",
    "ds.head(5)"
   ]
  },
  {
   "cell_type": "code",
   "execution_count": null,
   "id": "3488f1aa-3cac-4214-95d2-9c94438d0477",
   "metadata": {},
   "outputs": [],
   "source": [
    "In order for each line: -Creating a new column with the count of years since 1970 -Creating a new\n",
    "column with the population in the millions"
   ]
  },
  {
   "cell_type": "code",
   "execution_count": 10,
   "id": "51050e00-670f-4b14-a903-dd0587a4fa7c",
   "metadata": {},
   "outputs": [
    {
     "data": {
      "text/html": [
       "<div>\n",
       "<style scoped>\n",
       "    .dataframe tbody tr th:only-of-type {\n",
       "        vertical-align: middle;\n",
       "    }\n",
       "\n",
       "    .dataframe tbody tr th {\n",
       "        vertical-align: top;\n",
       "    }\n",
       "\n",
       "    .dataframe thead th {\n",
       "        text-align: right;\n",
       "    }\n",
       "</style>\n",
       "<table border=\"1\" class=\"dataframe\">\n",
       "  <thead>\n",
       "    <tr style=\"text-align: right;\">\n",
       "      <th></th>\n",
       "      <th>year</th>\n",
       "      <th>us_pop</th>\n",
       "      <th>years</th>\n",
       "      <th>population</th>\n",
       "    </tr>\n",
       "  </thead>\n",
       "  <tbody>\n",
       "    <tr>\n",
       "      <th>0</th>\n",
       "      <td>1790</td>\n",
       "      <td>3929326</td>\n",
       "      <td>0</td>\n",
       "      <td>3.929326</td>\n",
       "    </tr>\n",
       "    <tr>\n",
       "      <th>1</th>\n",
       "      <td>1800</td>\n",
       "      <td>5308483</td>\n",
       "      <td>10</td>\n",
       "      <td>5.308483</td>\n",
       "    </tr>\n",
       "    <tr>\n",
       "      <th>2</th>\n",
       "      <td>1810</td>\n",
       "      <td>7239881</td>\n",
       "      <td>20</td>\n",
       "      <td>7.239881</td>\n",
       "    </tr>\n",
       "    <tr>\n",
       "      <th>3</th>\n",
       "      <td>1820</td>\n",
       "      <td>9638453</td>\n",
       "      <td>30</td>\n",
       "      <td>9.638453</td>\n",
       "    </tr>\n",
       "    <tr>\n",
       "      <th>4</th>\n",
       "      <td>1830</td>\n",
       "      <td>12866020</td>\n",
       "      <td>40</td>\n",
       "      <td>12.866020</td>\n",
       "    </tr>\n",
       "  </tbody>\n",
       "</table>\n",
       "</div>"
      ],
      "text/plain": [
       "   year    us_pop  years  population\n",
       "0  1790   3929326      0    3.929326\n",
       "1  1800   5308483     10    5.308483\n",
       "2  1810   7239881     20    7.239881\n",
       "3  1820   9638453     30    9.638453\n",
       "4  1830  12866020     40   12.866020"
      ]
     },
     "execution_count": 10,
     "metadata": {},
     "output_type": "execute_result"
    }
   ],
   "source": [
    "ds['years'] = ds['year'] - 1790\n",
    "ds['population'] = ds['us_pop'] / 1_000_000\n",
    "ds.head(5)"
   ]
  },
  {
   "cell_type": "code",
   "execution_count": null,
   "id": "f355ce8e-3d5d-40cf-928c-609c646ac516",
   "metadata": {},
   "outputs": [],
   "source": [
    "Plotting the Years(x_value) vs Population(y_value)"
   ]
  },
  {
   "cell_type": "code",
   "execution_count": 16,
   "id": "03455b83-4461-42c7-9678-08c8110cb34c",
   "metadata": {},
   "outputs": [
    {
     "data": {
      "text/plain": [
       "Text(0, 0.5, 'Population')"
      ]
     },
     "execution_count": 16,
     "metadata": {},
     "output_type": "execute_result"
    },
    {
     "data": {
      "image/png": "[encoded data removed]",
      "text/plain": [
       "<Figure size 640x480 with 1 Axes>"
      ]
     },
     "metadata": {},
     "output_type": "display_data"
    }
   ],
   "source": [
    "plt.scatter(ds.years,ds.population)\n",
    "plt.xlabel('Year')\n",
    "plt.ylabel('Population')"
   ]
  },
  {
   "cell_type": "code",
   "execution_count": null,
   "id": "0c21050d-b9a3-47e3-b37c-263a03e665dc",
   "metadata": {},
   "outputs": [],
   "source": [
    "Preparing data:\n",
    "-Independant values (years)\n",
    "-Dependant values (population)"
   ]
  },
  {
   "cell_type": "code",
   "execution_count": 28,
   "id": "635e59ee-3f89-43d7-b52b-f144b2721d0d",
   "metadata": {},
   "outputs": [],
   "source": [
    "x = ds['years'].values.reshape(-1,1)\n",
    "y = ds['population'].values"
   ]
  },
  {
   "cell_type": "code",
   "execution_count": null,
   "id": "b7461741-ae7c-4e3e-b9ac-61d01b3d706d",
   "metadata": {},
   "outputs": [],
   "source": [
    "In order for each line:\n",
    "-Splitting the data into training and testing sets\n",
    "-Creating and training the model\n",
    "-Make the prediction\n",
    "-Evaluating the model\n",
    "-Printing the R2 value"
   ]
  },
  {
   "cell_type": "code",
   "execution_count": 56,
   "id": "898a7474-87c9-46bf-a63a-c533a04f91df",
   "metadata": {},
   "outputs": [
    {
     "name": "stdout",
     "output_type": "stream",
     "text": [
      "R^2 Score: 0.6949714808709466\n"
     ]
    }
   ],
   "source": [
    "x_train, x_test, y_train, y_test = train_test_split(x, y, random_state=42)\n",
    "model = LinearRegression()\n",
    "model.fit(x_train, y_train)\n",
    "y_pred = model.predict(x_test)\n",
    "r2 = r2_score(y_test, y_pred)\n",
    "print(f'R^2 Score: {r2}')"
   ]
  },
  {
   "cell_type": "code",
   "execution_count": null,
   "id": "85a8ee83-5f50-4ba3-8b90-baf37878a40f",
   "metadata": {},
   "outputs": [],
   "source": [
    "Creating another column that is the square of"
   ]
  },
  {
   "cell_type": "code",
   "execution_count": 12,
   "id": "d909320e-c699-4f0b-bce0-687b7055d9d2",
   "metadata": {},
   "outputs": [
    {
     "data": {
      "text/html": [
       "<div>\n",
       "<style scoped>\n",
       "    .dataframe tbody tr th:only-of-type {\n",
       "        vertical-align: middle;\n",
       "    }\n",
       "\n",
       "    .dataframe tbody tr th {\n",
       "        vertical-align: top;\n",
       "    }\n",
       "\n",
       "    .dataframe thead th {\n",
       "        text-align: right;\n",
       "    }\n",
       "</style>\n",
       "<table border=\"1\" class=\"dataframe\">\n",
       "  <thead>\n",
       "    <tr style=\"text-align: right;\">\n",
       "      <th></th>\n",
       "      <th>year</th>\n",
       "      <th>us_pop</th>\n",
       "      <th>years</th>\n",
       "      <th>population</th>\n",
       "      <th>squared_years</th>\n",
       "    </tr>\n",
       "  </thead>\n",
       "  <tbody>\n",
       "    <tr>\n",
       "      <th>0</th>\n",
       "      <td>1790</td>\n",
       "      <td>3929326</td>\n",
       "      <td>0</td>\n",
       "      <td>3.929326</td>\n",
       "      <td>0</td>\n",
       "    </tr>\n",
       "    <tr>\n",
       "      <th>1</th>\n",
       "      <td>1800</td>\n",
       "      <td>5308483</td>\n",
       "      <td>10</td>\n",
       "      <td>5.308483</td>\n",
       "      <td>100</td>\n",
       "    </tr>\n",
       "    <tr>\n",
       "      <th>2</th>\n",
       "      <td>1810</td>\n",
       "      <td>7239881</td>\n",
       "      <td>20</td>\n",
       "      <td>7.239881</td>\n",
       "      <td>400</td>\n",
       "    </tr>\n",
       "    <tr>\n",
       "      <th>3</th>\n",
       "      <td>1820</td>\n",
       "      <td>9638453</td>\n",
       "      <td>30</td>\n",
       "      <td>9.638453</td>\n",
       "      <td>900</td>\n",
       "    </tr>\n",
       "    <tr>\n",
       "      <th>4</th>\n",
       "      <td>1830</td>\n",
       "      <td>12866020</td>\n",
       "      <td>40</td>\n",
       "      <td>12.866020</td>\n",
       "      <td>1600</td>\n",
       "    </tr>\n",
       "  </tbody>\n",
       "</table>\n",
       "</div>"
      ],
      "text/plain": [
       "   year    us_pop  years  population  squared_years\n",
       "0  1790   3929326      0    3.929326              0\n",
       "1  1800   5308483     10    5.308483            100\n",
       "2  1810   7239881     20    7.239881            400\n",
       "3  1820   9638453     30    9.638453            900\n",
       "4  1830  12866020     40   12.866020           1600"
      ]
     },
     "execution_count": 12,
     "metadata": {},
     "output_type": "execute_result"
    }
   ],
   "source": [
    "ds['squared_years'] = ds['years']**2\n",
    "ds.head(5)"
   ]
  },
  {
   "cell_type": "code",
   "execution_count": null,
   "id": "2bc0c6d1-84b5-4d59-8f34-d40d480f4c32",
   "metadata": {},
   "outputs": [],
   "source": [
    "In order for each line:\n",
    "-Splitting the data into training and testing sets\n",
    "-Creating and training the model\n",
    "-Make the prediction\n",
    "-Evaluating the model\n",
    "-Printing the R2 value"
   ]
  },
  {
   "cell_type": "code",
   "execution_count": 54,
   "id": "bb176523-7a80-4eeb-b559-bcfb68573b9b",
   "metadata": {},
   "outputs": [
    {
     "name": "stdout",
     "output_type": "stream",
     "text": [
      "R^2 Score: 0.9944697996880941\n"
     ]
    }
   ],
   "source": [
    "x_value = ds['squared_years'].values.reshape(-1,1)\n",
    "x_tr, x_ts, y_tr, y_ts = train_test_split(x_value, y, random_state=42)\n",
    "model = LinearRegression()\n",
    "model.fit(x_tr, y_tr)\n",
    "y_predict = model.predict(x_ts)\n",
    "r_square = r2_score(y_ts, y_predict)\n",
    "print(f'R^2 Score: {r_square}')"
   ]
  },
  {
   "cell_type": "code",
   "execution_count": null,
   "id": "b73943aa-a42b-40a9-a7f1-e85f6f826684",
   "metadata": {},
   "outputs": [],
   "source": [
    "Below: Plotting the data of each linear regression created and comparing them to each other\n",
    "It is very evident that the regression line for the squared years is far off from the data. This is also\n",
    "apparant in the R2 values for each line"
   ]
  },
  {
   "cell_type": "code",
   "execution_count": 64,
   "id": "ba041c60-0578-41c0-850f-be0f6bcc659d",
   "metadata": {},
   "outputs": [
    {
     "data": {
      "image/png": "[encoded data removed]",
      "text/plain": [
       "<Figure size 640x480 with 1 Axes>"
      ]
     },
     "metadata": {},
     "output_type": "display_data"
    }
   ],
   "source": [
    "plt.scatter(x_test, y_test, color='black', label='Actual data')\n",
    "plt.plot(x_test, y_pred, color='blue', linewidth=3, label='Predicted line')\n",
    "plt.xlabel('Year')\n",
    "plt.ylabel('Population')\n",
    "plt.title('US Population Prediction')\n",
    "plt.legend()\n",
    "plt.show()"
   ]
  },
  {
   "cell_type": "code",
   "execution_count": 62,
   "id": "571d39d7-18b3-44df-9fca-79c7e673f87e",
   "metadata": {},
   "outputs": [
    {
     "data": {
      "image/png": "[encoded data removed]",
      "text/plain": [
       "<Figure size 640x480 with 1 Axes>"
      ]
     },
     "metadata": {},
     "output_type": "display_data"
    }
   ],
   "source": [
    "plt.scatter(x_tr, y_tr, color='black', label='Actual data')\n",
    "plt.plot(x_ts, y_predict, color='orange', linewidth=3, label='Predicted line of squared years')\n",
    "plt.xlabel('Year')\n",
    "plt.ylabel('Population')\n",
    "plt.title('US Population Prediction of Squared Years')\n",
    "plt.legend()\n",
    "plt.show()"
   ]
  },
  {
   "cell_type": "code",
   "execution_count": null,
   "id": "622165fd-a313-4e92-9066-f6cef6f9e9ef",
   "metadata": {},
   "outputs": [],
   "source": [
    "Answer: The second linear regression model looks better. More data points are on the line or very close to the line.\n",
    "The second regression model is better.\n",
    "This is reflective in the R^2. R^2 of the first model equals 0.6949714808709466\n",
    "R^2 of the second models equals: 0.9944697996880941.\n",
    "The second R^2 > first R^2. Therefore, the second model is better.\n"
   ]
  },
  {
   "cell_type": "markdown",
   "id": "187d3d1a-6bae-436e-8239-54c7082a20aa",
   "metadata": {},
   "source": [
    "# Part 2"
   ]
  },
  {
   "cell_type": "markdown",
   "id": "aa59360d-b3cb-43ae-b403-a4a6c8943372",
   "metadata": {},
   "source": [
    "### Importing customer spending data from file upload"
   ]
  },
  {
   "cell_type": "code",
   "execution_count": 60,
   "id": "171fa9aa-0de3-4904-b68f-097a24af36d6",
   "metadata": {},
   "outputs": [
    {
     "name": "stdout",
     "output_type": "stream",
     "text": [
      "     ann_spending\n",
      "0           34112\n",
      "1           33266\n",
      "2           36610\n",
      "3           27381\n",
      "4           46100\n",
      "..            ...\n",
      "435         73302\n",
      "436         48372\n",
      "437         77407\n",
      "438         17834\n",
      "439          7589\n",
      "\n",
      "[440 rows x 1 columns]\n"
     ]
    }
   ],
   "source": [
    "df = pd.read_csv(r\"E:\\Rachana Bellevue\\customer_spending.csv\")\n",
    "print(df)"
   ]
  },
  {
   "cell_type": "code",
   "execution_count": 44,
   "id": "c089b15a-3d2e-4482-8213-2b4a0e212c2e",
   "metadata": {},
   "outputs": [
    {
     "data": {
      "text/plain": [
       "(array([150., 179.,  69.,  24.,   7.,   4.,   1.,   1.,   1.,   4.]),\n",
       " array([   904. ,  20802.7,  40701.4,  60600.1,  80498.8, 100397.5,\n",
       "        120296.2, 140194.9, 160093.6, 179992.3, 199891. ]),\n",
       " <BarContainer object of 10 artists>)"
      ]
     },
     "execution_count": 44,
     "metadata": {},
     "output_type": "execute_result"
    },
    {
     "data": {
      "image/png": "[encoded data removed]",
      "text/plain": [
       "<Figure size 640x480 with 1 Axes>"
      ]
     },
     "metadata": {},
     "output_type": "display_data"
    }
   ],
   "source": [
    "data = (df.ann_spending)\n",
    "plt.hist(data)"
   ]
  },
  {
   "cell_type": "code",
   "execution_count": 48,
   "id": "bded5d17-93ac-4950-a902-901b794ac562",
   "metadata": {},
   "outputs": [
    {
     "data": {
      "text/plain": [
       "(array([  1.,   2.,   6.,   8.,  53., 103., 153.,  86.,  20.,   8.]),\n",
       " array([ 9.82017896, 10.59904647, 11.37791397, 12.15678147, 12.93564897,\n",
       "        13.71451648, 14.49338398, 15.27225148, 16.05111899, 16.82998649,\n",
       "        17.60885399]),\n",
       " <BarContainer object of 10 artists>)"
      ]
     },
     "execution_count": 48,
     "metadata": {},
     "output_type": "execute_result"
    },
    {
     "data": {
      "image/png": "[encoded data removed]",
      "text/plain": [
       "<Figure size 640x480 with 1 Axes>"
      ]
     },
     "metadata": {},
     "output_type": "display_data"
    }
   ],
   "source": [
    "data = np.log2(df.ann_spending)\n",
    "plt.hist(data)"
   ]
  },
  {
   "cell_type": "code",
   "execution_count": null,
   "id": "0f0b3410-9557-4ee7-97a3-575debc32c72",
   "metadata": {},
   "outputs": [],
   "source": [
    "ans- the log transformation reduces or removes the skewness of our original data. \n",
    "log transformation is very easy to apply and quite beneficial for statistical modeling\n",
    "The histogram looks more like a normal distribution with the log data."
   ]
  }
 ],
 "metadata": {
  "kernelspec": {
   "display_name": "Python 3 (ipykernel)",
   "language": "python",
   "name": "python3"
  },
  "language_info": {
   "codemirror_mode": {
    "name": "ipython",
    "version": 3
   },
   "file_extension": ".py",
   "mimetype": "text/x-python",
   "name": "python",
   "nbconvert_exporter": "python",
   "pygments_lexer": "ipython3",
   "version": "3.12.4"
  }
 },
 "nbformat": 4,
 "nbformat_minor": 5
}
